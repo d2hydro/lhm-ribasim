{
 "cells": [
  {
   "cell_type": "code",
   "execution_count": null,
   "id": "4da56099-cd35-4780-af02-56d759cf19ce",
   "metadata": {},
   "outputs": [],
   "source": [
    "from pathlib import Path\n",
    "import geopandas as gpd"
   ]
  },
  {
   "cell_type": "code",
   "execution_count": null,
   "id": "be36c541-f408-42a7-9830-40499573c60d",
   "metadata": {},
   "outputs": [],
   "source": [
    "DATA_DIR = Path(r\"../data\")\n",
    "LSWS_DIR = DATA_DIR / \"verfijining_LSWs_peilbeheerstNL_dec2021\""
   ]
  },
  {
   "cell_type": "markdown",
   "id": "007141e5-2553-4c6c-9524-d102bd078de8",
   "metadata": {},
   "source": [
    "## LSW verfijning"
   ]
  },
  {
   "cell_type": "code",
   "execution_count": null,
   "id": "294702bf-7864-4ef1-816c-b4055e7e6a6e",
   "metadata": {},
   "outputs": [],
   "source": [
    "gdf = gpd.read_file(LSWS_DIR / \"final_lsw_v8.shp\")\n",
    "gdf.explore()"
   ]
  }
 ],
 "metadata": {
  "kernelspec": {
   "display_name": "Python 3 (ipykernel)",
   "language": "python",
   "name": "python3"
  },
  "language_info": {
   "codemirror_mode": {
    "name": "ipython",
    "version": 3
   },
   "file_extension": ".py",
   "mimetype": "text/x-python",
   "name": "python",
   "nbconvert_exporter": "python",
   "pygments_lexer": "ipython3",
   "version": "3.11.3"
  }
 },
 "nbformat": 4,
 "nbformat_minor": 5
}
