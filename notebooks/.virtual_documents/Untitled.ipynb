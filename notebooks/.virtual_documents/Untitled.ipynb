from config import LHM_DIR
import re
import pandas as pd





dw_keys = LHM_DIR / "dm/txtfiles_git/dwkeys.txt"
pattern = r'KEY oid (\d+) kty "(\w+)" rid (\d+) nid (\d+) ds "(.*?)" cp "(.*?)"'
with dw_keys.read_text() as src:
    matches = re.findall(pattern, text)
    df = pd.DataFrame(matches, columns=['oid', 'kty', 'rid', 'nid', 'ds', 'cp'])
