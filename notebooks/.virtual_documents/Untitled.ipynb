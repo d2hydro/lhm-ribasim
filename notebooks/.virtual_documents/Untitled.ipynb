from pathlib import Path
import geopandas as gpd


DATA_DIR = Path(r"../data")
LSWS_DIR = DATA_DIR / "verfijining_LSWs_peilbeheerstNL_dec2021"


gdf = gpd.read_file(LSWS_DIR / "final_lsw_v8.shp")
gdf.explore()
