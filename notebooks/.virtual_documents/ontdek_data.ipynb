from pathlib import Path
import geopandas as gpd
import folium
from config import LSWS_DIR, LKM25_DIR





lsws_gdf = gpd.read_file(LSWS_DIR / "lsws.shp")
gebied_poly = lsws_gdf[lsws_gdf["DWRN"] == 30].geometry.unary_union
lsws_gdf[lsws_gdf["DWRN"] == 30].explore()


lkm_basins_gdf = gpd.read_file(LKM25_DIR / "KrwLdS_Basins_012.shp")
lkm_basins_gdf = lkm_basins_gdf.loc[lkm_basins_gdf["DWNR"] == 30]
lkm_links_gdf = gpd.read_file(LKM25_DIR / "LKM25_Links.shp", bbox=gebied_poly.bounds)

m = lkm_basins_gdf.explore(name="lkm_basins")
m = lkm_links_gdf.explore(m=m, color="red", name="lkm_links")
# this is completely optional
folium.LayerControl().add_to(m)

m



