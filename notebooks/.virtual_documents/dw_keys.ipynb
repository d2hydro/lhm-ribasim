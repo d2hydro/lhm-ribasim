from config import LHM_DIR
import re
import pandas as pd


dw_keys = LHM_DIR / "dm/txtfiles_git/dwkeys.txt"
pattern = r'KEY oid\s+(\d+)\s+kty\s+"(\w+)"\s+rid\s+(\d+)\s+nid\s+(\d+)\s+ds\s+"(.*?)"\s+cp\s+"(.*?)"'
text = dw_keys.read_text()
matches = re.findall(pattern, text, re.DOTALL)
df = pd.DataFrame(matches, columns=['oid', 'kty', 'rid', 'nid', 'ds', 'cp'])

df.head()



