{
 "cells": [
  {
   "cell_type": "code",
   "execution_count": null,
   "metadata": {},
   "outputs": [],
   "source": [
    "Lees in kolom nodefrom en nodeto: lkm25\\Schematisatie\\KRWVerkenner\\shapes\\LKM25_Links.shp\n",
    "- Wanneer LSW ID gelijk is aan nodefrom: volg het netwerk totdat nodeto start met LSM. \n",
    "- Check nu of er een Sobek lateral op minder dan 250m. ligt. Zoja verbindt deze LSM met deze SOBEK lateral. \n",
    "Zoniet loop het netwerk verder af en check nogmaals of het volgende eindpunt wel op 250m. van een lateral ligt.\n",
    "Let op: Je mag alleen Sobek laterals gebruiken die in hetzelfde district liggen als de LSW. "
   ]
  }
 ],
 "metadata": {
  "language_info": {
   "name": "python"
  },
  "orig_nbformat": 4
 },
 "nbformat": 4,
 "nbformat_minor": 2
}
