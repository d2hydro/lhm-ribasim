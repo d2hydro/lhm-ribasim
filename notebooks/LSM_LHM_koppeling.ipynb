{
 "cells": [
  {
   "cell_type": "code",
   "execution_count": null,
   "id": "82adcab9-dba6-4851-ba95-ab7f11019ca2",
   "metadata": {},
   "outputs": [],
   "source": [
    "from config import DATA_DIR, LSM_KOPPELING_DIR, load_src\n",
    "\n",
    "load_src()\n",
    "\n",
    "from lhm.read import read_lsm_lhm"
   ]
  },
  {
   "cell_type": "markdown",
   "id": "7a7012c6-1583-452b-9aa3-e0c49c908158",
   "metadata": {},
   "source": [
    "# Inlezen LHM-LSM koppeling uit FEWS-CSVs"
   ]
  },
  {
   "cell_type": "code",
   "execution_count": null,
   "id": "a2bd5a14-d5c9-4c03-aa11-63673baeefb1",
   "metadata": {},
   "outputs": [],
   "source": [
    "lsm3_locations_csv = LSM_KOPPELING_DIR / \"LSM3_locations.csv\"\n",
    "knoop_district_csv = LSM_KOPPELING_DIR / \"LSM3_DMKnoopDistrict_childs.csv\"\n",
    "\n",
    "lsm_lhm_gdf = read_lsm_lhm(lsm3_locations_csv, knoop_district_csv)\n",
    "\n",
    "lsm_lhm_path = DATA_DIR / \"lsm_lhm.gpkg\"\n",
    "lsm_lhm_gdf.to_file(lsm_lhm_path)\n",
    "print(f\"hier staat de gpkg: {lsm_lhm_path.absolute().resolve()}\")\n",
    "\n",
    "lsm_lhm_gdf.explore()"
   ]
  }
 ],
 "metadata": {
  "kernelspec": {
   "display_name": "Python 3 (ipykernel)",
   "language": "python",
   "name": "python3"
  },
  "language_info": {
   "codemirror_mode": {
    "name": "ipython",
    "version": 3
   },
   "file_extension": ".py",
   "mimetype": "text/x-python",
   "name": "python",
   "nbconvert_exporter": "python",
   "pygments_lexer": "ipython3",
   "version": "3.11.3"
  }
 },
 "nbformat": 4,
 "nbformat_minor": 5
}
