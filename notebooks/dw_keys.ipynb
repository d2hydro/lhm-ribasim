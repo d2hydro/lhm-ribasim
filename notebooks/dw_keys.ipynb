{
 "cells": [
  {
   "cell_type": "code",
   "execution_count": 1,
   "id": "735a437d-f6d4-446f-8c1c-ff3751397a35",
   "metadata": {},
   "outputs": [],
   "source": [
    "from config import LHM_DIR\n",
    "import re\n",
    "import pandas as pd"
   ]
  },
  {
   "cell_type": "code",
   "execution_count": 4,
   "id": "8ec752bc-f53d-4c4a-a55f-2c5690699317",
   "metadata": {},
   "outputs": [
    {
     "name": "stdout",
     "output_type": "stream",
     "text": [
      "704\n"
     ]
    },
    {
     "data": {
      "text/html": [
       "<div>\n",
       "<style scoped>\n",
       "    .dataframe tbody tr th:only-of-type {\n",
       "        vertical-align: middle;\n",
       "    }\n",
       "\n",
       "    .dataframe tbody tr th {\n",
       "        vertical-align: top;\n",
       "    }\n",
       "\n",
       "    .dataframe thead th {\n",
       "        text-align: right;\n",
       "    }\n",
       "</style>\n",
       "<table border=\"1\" class=\"dataframe\">\n",
       "  <thead>\n",
       "    <tr style=\"text-align: right;\">\n",
       "      <th></th>\n",
       "      <th>oid</th>\n",
       "      <th>kty</th>\n",
       "      <th>rid</th>\n",
       "      <th>nid</th>\n",
       "      <th>ds</th>\n",
       "      <th>cp</th>\n",
       "    </tr>\n",
       "  </thead>\n",
       "  <tbody>\n",
       "    <tr>\n",
       "      <th>0</th>\n",
       "      <td>1</td>\n",
       "      <td>e</td>\n",
       "      <td>1</td>\n",
       "      <td>1125</td>\n",
       "      <td>Interactie polders, vrij afwaterend en gestuwd...</td>\n",
       "      <td>v</td>\n",
       "    </tr>\n",
       "    <tr>\n",
       "      <th>1</th>\n",
       "      <td>1</td>\n",
       "      <td>e</td>\n",
       "      <td>1</td>\n",
       "      <td>1151</td>\n",
       "      <td>Drentsche Hoofdvaart bij Witte Wijk naar Appel...</td>\n",
       "      <td>v</td>\n",
       "    </tr>\n",
       "    <tr>\n",
       "      <th>2</th>\n",
       "      <td>1</td>\n",
       "      <td>d</td>\n",
       "      <td>1</td>\n",
       "      <td>1125</td>\n",
       "      <td>Interactie polders, vrij afwaterend en gestuwd...</td>\n",
       "      <td>v</td>\n",
       "    </tr>\n",
       "    <tr>\n",
       "      <th>3</th>\n",
       "      <td>502</td>\n",
       "      <td>e</td>\n",
       "      <td>1</td>\n",
       "      <td>1125</td>\n",
       "      <td>Interactie polders, vrij afwaterend en gestuwd...</td>\n",
       "      <td>v</td>\n",
       "    </tr>\n",
       "    <tr>\n",
       "      <th>4</th>\n",
       "      <td>502</td>\n",
       "      <td>d</td>\n",
       "      <td>1</td>\n",
       "      <td>1125</td>\n",
       "      <td>Interactie polders, vrij afwaterend en gestuwd...</td>\n",
       "      <td>v</td>\n",
       "    </tr>\n",
       "  </tbody>\n",
       "</table>\n",
       "</div>"
      ],
      "text/plain": [
       "   oid kty rid   nid                                                 ds cp\n",
       "0    1   e   1  1125  Interactie polders, vrij afwaterend en gestuwd...  v\n",
       "1    1   e   1  1151  Drentsche Hoofdvaart bij Witte Wijk naar Appel...  v\n",
       "2    1   d   1  1125  Interactie polders, vrij afwaterend en gestuwd...  v\n",
       "3  502   e   1  1125  Interactie polders, vrij afwaterend en gestuwd...  v\n",
       "4  502   d   1  1125  Interactie polders, vrij afwaterend en gestuwd...  v"
      ]
     },
     "execution_count": 4,
     "metadata": {},
     "output_type": "execute_result"
    }
   ],
   "source": [
    "dw_keys = LHM_DIR / \"dm/txtfiles_git/dwkeys.txt\"\n",
    "pattern = r'KEY oid\\s+(\\d+)\\s+kty\\s+\"(\\w+)\"\\s+rid\\s+(\\d+)\\s+nid\\s+(\\d+)\\s+ds\\s+\"(.*?)\"\\s+cp\\s+\"(.*?)\"'\n",
    "text = dw_keys.read_text()\n",
    "matches = re.findall(pattern, text, re.DOTALL)\n",
    "df = pd.DataFrame(matches, columns=['oid', 'kty', 'rid', 'nid', 'ds', 'cp'])\n",
    "\n",
    "print(len(df))\n",
    "df.head()"
   ]
  },
  {
   "cell_type": "code",
   "execution_count": null,
   "id": "1fb3307c-0d4e-4fc5-b304-84e2ea0addd5",
   "metadata": {},
   "outputs": [],
   "source": []
  }
 ],
 "metadata": {
  "kernelspec": {
   "display_name": "Python 3 (ipykernel)",
   "language": "python",
   "name": "python3"
  },
  "language_info": {
   "codemirror_mode": {
    "name": "ipython",
    "version": 3
   },
   "file_extension": ".py",
   "mimetype": "text/x-python",
   "name": "python",
   "nbconvert_exporter": "python",
   "pygments_lexer": "ipython3",
   "version": "3.11.3"
  }
 },
 "nbformat": 4,
 "nbformat_minor": 5
}
