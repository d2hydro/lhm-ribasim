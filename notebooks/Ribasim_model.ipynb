{
 "cells": [
  {
   "attachments": {},
   "cell_type": "markdown",
   "id": "7a7012c6-1583-452b-9aa3-e0c49c908158",
   "metadata": {},
   "source": [
    "# Inlezen Ribasim model Huite en het model uitbreiden met LSW ID's"
   ]
  },
  {
   "cell_type": "code",
   "execution_count": 16,
   "id": "72db2a69",
   "metadata": {},
   "outputs": [
    {
     "name": "stdout",
     "output_type": "stream",
     "text": [
      "Unjoined LSWs saved to: lsw_relevant.shp\n"
     ]
    }
   ],
   "source": [
    "import geopandas as gpd\n",
    "import numpy as np\n",
    "import scipy.ndimage\n",
    "import xarray as xr\n",
    "\n",
    "def column_names_to_string(ds):\n",
    "    ds[\"profile_col\"] = [chr(int(v)) for v in ds[\"profile_col\"].values]\n",
    "\n",
    "# Read the existing (sanitized) input.\n",
    "# Read the shapefiles of districts and LSW's.\n",
    "# Some LSW are not part of the network. This is given by the sanitized input.\n",
    "# Get the bounds of the Berkel district.\n",
    "\n",
    "bach_ds = xr.open_dataset(\"c:/Users/ngoor/Projects/Repos/lhm-ribasim/data/ribasim_testmodel/bach-cases/data/1-external/input-mozart.nc\")\n",
    "column_names_to_string(bach_ds)\n",
    "\n",
    "gdf_lsw = gpd.read_file(\"c:/Users/ngoor/Projects/Repos/lhm-ribasim/data/lhm4.3/coupling/lsws.shp\")\n",
    "lsw_relevant = bach_ds[\"node\"].values.astype(int)\n",
    "gdf_lsw = gdf_lsw[gdf_lsw[\"LSWFINAL\"].isin(lsw_relevant)]\n",
    "gdf_lsw[\"lsw_area\"] = gdf_lsw.area\n",
    "\n",
    "# Specify the output file path relevant LSWs\n",
    "output_file_path = \"lsw_relevant.shp\"\n",
    "\n",
    "# Save the unjoined LSWs to a shapefile\n",
    "gdf_lsw.to_file(output_file_path)\n",
    "\n",
    "print(\"Unjoined LSWs saved to:\", output_file_path)\n",
    "\n"
   ]
  },
  {
   "cell_type": "code",
   "execution_count": null,
   "id": "a97121b6",
   "metadata": {},
   "outputs": [],
   "source": [
    "import geopandas as gpd\n",
    "\n",
    "# Read the nodes file and model file\n",
    "nodes_gdf = gpd.read_file(\"nodes.gpkg\")\n",
    "model_gdf = gpd.read_file(\"../data/ribasim_testmodel/model.gpkg\", layer='Node', index_col='fid')\n",
    "\n",
    "filtered_model_gdf = model_gdf[model_gdf['type'] == 'Basin']\n",
    "\n",
    "# Perform the spatial join\n",
    "joined_gdf = gpd.sjoin_nearest(filtered_model_gdf, nodes_gdf, how='left')\n",
    "\n",
    "# Reset the index of the joined GeoDataFrame to preserve the original 'fid' values\n",
    "joined_gdf.reset_index(drop=True, inplace=True)\n",
    "\n",
    "# Set the value of 'lswfinal' to None for non-matching records\n",
    "joined_gdf.loc[model_gdf['type'] != 'Basin', 'lswfinal'] = None\n",
    "\n",
    "# Add a new column 'fid' to the joined GeoDataFrame using the index\n",
    "joined_gdf['fid'] = joined_gdf.index\n",
    "\n",
    "# Rename one of the 'TYPE' columns to avoid duplicate column names\n",
    "joined_gdf.rename(columns={'TYPE': 'TYPE_2'}, inplace=True)\n",
    "\n",
    "# Specify the output file path for the modified joined GeoDataFrame\n",
    "output_file_path = \"modified_joined_gdf.gpkg\"\n",
    "\n",
    "# Save the modified joined GeoDataFrame to a GeoPackage\n",
    "joined_gdf.to_file(output_file_path, driver='GPKG')\n"
   ]
  }
 ],
 "metadata": {
  "kernelspec": {
   "display_name": "Python 3 (ipykernel)",
   "language": "python",
   "name": "python3"
  },
  "language_info": {
   "codemirror_mode": {
    "name": "ipython",
    "version": 3
   },
   "file_extension": ".py",
   "mimetype": "text/x-python",
   "name": "python",
   "nbconvert_exporter": "python",
   "pygments_lexer": "ipython3",
   "version": "3.11.3"
  }
 },
 "nbformat": 4,
 "nbformat_minor": 5
}
